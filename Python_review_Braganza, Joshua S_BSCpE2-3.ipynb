{
 "cells": [
  {
   "cell_type": "markdown",
   "metadata": {},
   "source": [
    "Subject: Data Structure and Algorithm\n",
    "Lab Activity: Python review \n",
    "Deadline: September 22, 2024 11:59pm\n",
    "Upload your answer : https://docs.google.com/forms/d/e/1FAIpQLSeJgEXRDEOCkdYAqrRynA8Z2dDg_vf7HbBKSbWIcYoubXzSHA/viewform?usp=pp_url\n",
    "\n",
    "\n"
   ]
  },
  {
   "cell_type": "markdown",
   "metadata": {},
   "source": [
    "Exercise 1: Temperature Converter\n",
    "Create a program that converts temperatures between Celsius and Fahrenheit.\n",
    "Instructions:\n",
    "1.\tAsk the user to input a temperature.\n",
    "2.\tAsk the user to select the conversion type: from Celsius to Fahrenheit or from Fahrenheit to Celsius.\n",
    "3.\tPerform the appropriate conversion and print the result."
   ]
  },
  {
   "cell_type": "code",
   "execution_count": null,
   "metadata": {},
   "outputs": [],
   "source": [
    "#EXERCISE 1\n",
    "while True:\n",
    "    print(\"\\nSelect Conversion Type:\")\n",
    "    print(\"1.) Celsius to Fahrenheit\")\n",
    "    print(\"2.) Fahrenheit to Celsius\")\n",
    "    print(\"3.) Exit the Program\")\n",
    "\n",
    "    input_choice = input(\"\\nEnter your Choice (1, 2 or 3): \")\n",
    "\n",
    "    if input_choice == \"1\":\n",
    "        user_input = float(input(\"\\nInput Temperature: \"))\n",
    "        celsius =(user_input * (9/5)) + 32\n",
    "        print(f\"\\n{user_input}°C is equal to {celsius:.2f}°F\")\n",
    "\n",
    "    elif input_choice == \"2\":\n",
    "        user_input = float(input(\"\\nInput Temperature: \"))\n",
    "        fahrenheit = (user_input - 32) * 5/9\n",
    "        print(f\"\\n{user_input}°F is equal to {fahrenheit:.2f}°C\")\n",
    "\n",
    "    elif input_choice == \"3\":\n",
    "        print(\"\\nExiting Program, Babush\")\n",
    "        break\n",
    "\n",
    "    else:\n",
    "        print(\"\\nInvalid Choice, Please Select 1, 2 or 3\")"
   ]
  },
  {
   "cell_type": "markdown",
   "metadata": {},
   "source": [
    "Exercise 2: Ohm’s Law Calculator\n",
    "Instructions:\n",
    "1.\tAsk the user what they want to calculate: Voltage, Current, or Resistance.\n",
    "2.\tBased on their choice, prompt the user to input the appropriate values.\n",
    "3.\tUse Ohm's Law to calculate the missing variable and display the result.\n",
    "4.\tHandle cases where division by zero might occur."
   ]
  },
  {
   "cell_type": "code",
   "execution_count": null,
   "metadata": {},
   "outputs": [],
   "source": [
    "#EXERCISE 2\n",
    "def calculate_voltage(current, resistance):\n",
    "    return current * resistance\n",
    "\n",
    "def calculate_current(voltage, resistance):\n",
    "    if resistance == 0:\n",
    "        return print(\"Resistance cannot be zero when calculating current.\")\n",
    "    return voltage / resistance\n",
    "\n",
    "def calculate_resistance(voltage, current):\n",
    "    if current == 0:\n",
    "        return print(\"Current cannot be zero when calculating resistance.\")\n",
    "    return voltage / current\n",
    "\n",
    "while True:\n",
    "    print(\"\\nWhat do you want to calculate?\")\n",
    "    print(\"1. Voltage (V)\")\n",
    "    print(\"2. Current (I)\")\n",
    "    print(\"3. Resistance (R)\")\n",
    "    print(\"4. Exit\")\n",
    "    \n",
    "    input_choice = input(\"\\nEnter your choice (1, 2, 3, or 4): \")\n",
    "\n",
    "    if input_choice == \"1\":\n",
    "        current = float(input(\"\\nEnter the current (I) in amperes: \"))\n",
    "        resistance = float(input(\"Enter the resistance (R) in ohms: \"))\n",
    "        voltage = calculate_voltage(current, resistance)\n",
    "        print(f\"\\nThe calculated voltage is {voltage:.2f} volts.\")\n",
    "\n",
    "    elif input_choice == \"2\":\n",
    "        voltage = float(input(\"\\nEnter the voltage (V) in volts: \"))\n",
    "        resistance = float(input(\"Enter the resistance (R) in ohms: \"))\n",
    "        current = calculate_current(voltage, resistance)\n",
    "        if isinstance(current, str):  \n",
    "            print(current)\n",
    "        else:\n",
    "            print(f\"\\nThe calculated voltage is {current:.2f} amperes.\")\n",
    "\n",
    "    elif input_choice == \"3\":\n",
    "        voltage = float(input(\"\\nEnter the voltage (V) in volts: \"))\n",
    "        current = float(input(\"Enter the current (I) in amperes: \"))\n",
    "        resistance = calculate_resistance(voltage, current)\n",
    "        if isinstance(resistance, str):  \n",
    "            print(resistance)\n",
    "        else:\n",
    "            print(f\"\\nThe calculated voltage is {resistance:.2f} ohms.\")\n",
    "    \n",
    "    elif input_choice == \"4\":\n",
    "        print(\"\\nExiting program. Babush\")\n",
    "        break\n",
    "\n",
    "    else:\n",
    "        print(\"\\nInvalid Choice, Please Select 1, 2, 3 or 4\")"
   ]
  },
  {
   "cell_type": "markdown",
   "metadata": {},
   "source": [
    "Exercise 3:  Diamond Shape (advance topic):\n",
    "\n",
    "Write a Python function named print_diamond that takes an odd integer n as an argument and prints a diamond shape with a width of n using the * character.\n",
    "For n = 5, the output should be:\n",
    "    *\n",
    "  ***\n",
    "*****\n",
    "  ***\n",
    "    *\n",
    "Note: If an even number is passed, the function should return \"Please provide an odd integer.\""
   ]
  },
  {
   "cell_type": "code",
   "execution_count": null,
   "metadata": {},
   "outputs": [],
   "source": [
    "#EXERCISE 3\n",
    "def print_diamond(n):\n",
    "    if n % 2 == 0:\n",
    "        return print(\"Please provide an odd integer.\")\n",
    "\n",
    "    mid = n // 2\n",
    "\n",
    "    for i in range(mid + 1):\n",
    "        print(' ' * (mid - i) + '*' * (2 * i + 1))\n",
    "\n",
    "    for i in range(mid - 1, -1, -1):\n",
    "        print(' ' * (mid - i) + '*' * (2 * i + 1))\n",
    "\n",
    "n = 5\n",
    "print_diamond(n)"
   ]
  }
 ],
 "metadata": {
  "language_info": {
   "name": "python"
  }
 },
 "nbformat": 4,
 "nbformat_minor": 2
}
